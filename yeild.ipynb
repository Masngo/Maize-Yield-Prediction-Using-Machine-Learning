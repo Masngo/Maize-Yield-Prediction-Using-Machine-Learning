{
 "cells": [
  {
   "cell_type": "code",
   "execution_count": 104,
   "id": "8d6e98f5-cf55-403b-9e5e-fec4d728777c",
   "metadata": {},
   "outputs": [
    {
     "data": {
      "text/html": [
       "<div>\n",
       "<style scoped>\n",
       "    .dataframe tbody tr th:only-of-type {\n",
       "        vertical-align: middle;\n",
       "    }\n",
       "\n",
       "    .dataframe tbody tr th {\n",
       "        vertical-align: top;\n",
       "    }\n",
       "\n",
       "    .dataframe thead th {\n",
       "        text-align: right;\n",
       "    }\n",
       "</style>\n",
       "<table border=\"1\" class=\"dataframe\">\n",
       "  <thead>\n",
       "    <tr style=\"text-align: right;\">\n",
       "      <th></th>\n",
       "      <th>Unnamed: 0</th>\n",
       "      <th>Area</th>\n",
       "      <th>Item</th>\n",
       "      <th>Year</th>\n",
       "      <th>hg/ha_yield</th>\n",
       "      <th>Average_Rainfall_mm_per_year</th>\n",
       "      <th>Pesticides_Tonnes</th>\n",
       "      <th>Avg_Temp</th>\n",
       "    </tr>\n",
       "  </thead>\n",
       "  <tbody>\n",
       "    <tr>\n",
       "      <th>0</th>\n",
       "      <td>0</td>\n",
       "      <td>Bindura</td>\n",
       "      <td>Maize</td>\n",
       "      <td>2000</td>\n",
       "      <td>36613</td>\n",
       "      <td>1485</td>\n",
       "      <td>121.0</td>\n",
       "      <td>16.37</td>\n",
       "    </tr>\n",
       "    <tr>\n",
       "      <th>1</th>\n",
       "      <td>1</td>\n",
       "      <td>Bindura</td>\n",
       "      <td>Maize</td>\n",
       "      <td>2000</td>\n",
       "      <td>66667</td>\n",
       "      <td>1485</td>\n",
       "      <td>121.0</td>\n",
       "      <td>16.37</td>\n",
       "    </tr>\n",
       "    <tr>\n",
       "      <th>2</th>\n",
       "      <td>2</td>\n",
       "      <td>Bindura</td>\n",
       "      <td>Maize</td>\n",
       "      <td>2000</td>\n",
       "      <td>23333</td>\n",
       "      <td>1485</td>\n",
       "      <td>121.0</td>\n",
       "      <td>16.37</td>\n",
       "    </tr>\n",
       "    <tr>\n",
       "      <th>3</th>\n",
       "      <td>3</td>\n",
       "      <td>Bindura</td>\n",
       "      <td>Maize</td>\n",
       "      <td>2000</td>\n",
       "      <td>12500</td>\n",
       "      <td>1485</td>\n",
       "      <td>121.0</td>\n",
       "      <td>16.37</td>\n",
       "    </tr>\n",
       "    <tr>\n",
       "      <th>4</th>\n",
       "      <td>4</td>\n",
       "      <td>Bindura</td>\n",
       "      <td>Maize</td>\n",
       "      <td>2000</td>\n",
       "      <td>7000</td>\n",
       "      <td>1485</td>\n",
       "      <td>121.0</td>\n",
       "      <td>16.37</td>\n",
       "    </tr>\n",
       "  </tbody>\n",
       "</table>\n",
       "</div>"
      ],
      "text/plain": [
       "   Unnamed: 0     Area   Item  Year  hg/ha_yield  \\\n",
       "0           0  Bindura  Maize  2000        36613   \n",
       "1           1  Bindura  Maize  2000        66667   \n",
       "2           2  Bindura  Maize  2000        23333   \n",
       "3           3  Bindura  Maize  2000        12500   \n",
       "4           4  Bindura  Maize  2000         7000   \n",
       "\n",
       "   Average_Rainfall_mm_per_year  Pesticides_Tonnes  Avg_Temp  \n",
       "0                          1485              121.0     16.37  \n",
       "1                          1485              121.0     16.37  \n",
       "2                          1485              121.0     16.37  \n",
       "3                          1485              121.0     16.37  \n",
       "4                          1485              121.0     16.37  "
      ]
     },
     "execution_count": 104,
     "metadata": {},
     "output_type": "execute_result"
    }
   ],
   "source": [
    "from sklearn.preprocessing import OrdinalEncoder\n",
    "import pandas as pd\n",
    "import numpy as np\n",
    "from joblib import dump, load\n",
    "\n",
    "# Load and preprocess data\n",
    "data = pd.read_csv('yield_maize_df.csv')\n",
    "\n",
    "\n",
    "data.head()"
   ]
  },
  {
   "cell_type": "code",
   "execution_count": null,
   "id": "8d9ffe6c-fed0-471f-8ed1-dfec3986e719",
   "metadata": {},
   "outputs": [],
   "source": []
  },
  {
   "cell_type": "code",
   "execution_count": 105,
   "id": "c1955939-a100-4ffc-a5fc-f62cd6f991cf",
   "metadata": {
    "tags": []
   },
   "outputs": [],
   "source": [
    "import pandas as pd\n",
    "from sklearn.preprocessing import StandardScaler, OrdinalEncoder\n",
    "\n",
    "# Load the data\n",
    "data = pd.read_csv('yield_maize_df.csv')\n",
    "\n",
    "# Drop the 'Item' column\n",
    "data.drop('Item', axis=1, inplace=True)\n",
    "\n",
    "\n",
    "\n",
    "\n",
    "data = pd.get_dummies(data, columns=['Area'])\n"
   ]
  },
  {
   "cell_type": "code",
   "execution_count": 106,
   "id": "a4425f66-200d-440a-9134-2f2dacff2d50",
   "metadata": {
    "tags": []
   },
   "outputs": [
    {
     "data": {
      "text/html": [
       "<div>\n",
       "<style scoped>\n",
       "    .dataframe tbody tr th:only-of-type {\n",
       "        vertical-align: middle;\n",
       "    }\n",
       "\n",
       "    .dataframe tbody tr th {\n",
       "        vertical-align: top;\n",
       "    }\n",
       "\n",
       "    .dataframe thead th {\n",
       "        text-align: right;\n",
       "    }\n",
       "</style>\n",
       "<table border=\"1\" class=\"dataframe\">\n",
       "  <thead>\n",
       "    <tr style=\"text-align: right;\">\n",
       "      <th></th>\n",
       "      <th>Unnamed: 0</th>\n",
       "      <th>Year</th>\n",
       "      <th>hg/ha_yield</th>\n",
       "      <th>Average_Rainfall_mm_per_year</th>\n",
       "      <th>Pesticides_Tonnes</th>\n",
       "      <th>Avg_Temp</th>\n",
       "      <th>Area_Bindura</th>\n",
       "      <th>Area_Centenary</th>\n",
       "      <th>Area_Chikomba</th>\n",
       "      <th>Area_Guruve</th>\n",
       "      <th>...</th>\n",
       "      <th>Area_Marondera</th>\n",
       "      <th>Area_Mazowe</th>\n",
       "      <th>Area_Mrehwa</th>\n",
       "      <th>Area_Mt Darwin</th>\n",
       "      <th>Area_Mudzi</th>\n",
       "      <th>Area_Mutoko</th>\n",
       "      <th>Area_Rushinga</th>\n",
       "      <th>Area_Seke</th>\n",
       "      <th>Area_Shamva</th>\n",
       "      <th>Area_Uzumba</th>\n",
       "    </tr>\n",
       "  </thead>\n",
       "  <tbody>\n",
       "    <tr>\n",
       "      <th>0</th>\n",
       "      <td>0</td>\n",
       "      <td>2000</td>\n",
       "      <td>36613</td>\n",
       "      <td>1485</td>\n",
       "      <td>121.0</td>\n",
       "      <td>16.37</td>\n",
       "      <td>1</td>\n",
       "      <td>0</td>\n",
       "      <td>0</td>\n",
       "      <td>0</td>\n",
       "      <td>...</td>\n",
       "      <td>0</td>\n",
       "      <td>0</td>\n",
       "      <td>0</td>\n",
       "      <td>0</td>\n",
       "      <td>0</td>\n",
       "      <td>0</td>\n",
       "      <td>0</td>\n",
       "      <td>0</td>\n",
       "      <td>0</td>\n",
       "      <td>0</td>\n",
       "    </tr>\n",
       "    <tr>\n",
       "      <th>1</th>\n",
       "      <td>1</td>\n",
       "      <td>2000</td>\n",
       "      <td>66667</td>\n",
       "      <td>1485</td>\n",
       "      <td>121.0</td>\n",
       "      <td>16.37</td>\n",
       "      <td>1</td>\n",
       "      <td>0</td>\n",
       "      <td>0</td>\n",
       "      <td>0</td>\n",
       "      <td>...</td>\n",
       "      <td>0</td>\n",
       "      <td>0</td>\n",
       "      <td>0</td>\n",
       "      <td>0</td>\n",
       "      <td>0</td>\n",
       "      <td>0</td>\n",
       "      <td>0</td>\n",
       "      <td>0</td>\n",
       "      <td>0</td>\n",
       "      <td>0</td>\n",
       "    </tr>\n",
       "    <tr>\n",
       "      <th>2</th>\n",
       "      <td>2</td>\n",
       "      <td>2000</td>\n",
       "      <td>23333</td>\n",
       "      <td>1485</td>\n",
       "      <td>121.0</td>\n",
       "      <td>16.37</td>\n",
       "      <td>1</td>\n",
       "      <td>0</td>\n",
       "      <td>0</td>\n",
       "      <td>0</td>\n",
       "      <td>...</td>\n",
       "      <td>0</td>\n",
       "      <td>0</td>\n",
       "      <td>0</td>\n",
       "      <td>0</td>\n",
       "      <td>0</td>\n",
       "      <td>0</td>\n",
       "      <td>0</td>\n",
       "      <td>0</td>\n",
       "      <td>0</td>\n",
       "      <td>0</td>\n",
       "    </tr>\n",
       "    <tr>\n",
       "      <th>3</th>\n",
       "      <td>3</td>\n",
       "      <td>2000</td>\n",
       "      <td>12500</td>\n",
       "      <td>1485</td>\n",
       "      <td>121.0</td>\n",
       "      <td>16.37</td>\n",
       "      <td>1</td>\n",
       "      <td>0</td>\n",
       "      <td>0</td>\n",
       "      <td>0</td>\n",
       "      <td>...</td>\n",
       "      <td>0</td>\n",
       "      <td>0</td>\n",
       "      <td>0</td>\n",
       "      <td>0</td>\n",
       "      <td>0</td>\n",
       "      <td>0</td>\n",
       "      <td>0</td>\n",
       "      <td>0</td>\n",
       "      <td>0</td>\n",
       "      <td>0</td>\n",
       "    </tr>\n",
       "    <tr>\n",
       "      <th>4</th>\n",
       "      <td>4</td>\n",
       "      <td>2000</td>\n",
       "      <td>7000</td>\n",
       "      <td>1485</td>\n",
       "      <td>121.0</td>\n",
       "      <td>16.37</td>\n",
       "      <td>1</td>\n",
       "      <td>0</td>\n",
       "      <td>0</td>\n",
       "      <td>0</td>\n",
       "      <td>...</td>\n",
       "      <td>0</td>\n",
       "      <td>0</td>\n",
       "      <td>0</td>\n",
       "      <td>0</td>\n",
       "      <td>0</td>\n",
       "      <td>0</td>\n",
       "      <td>0</td>\n",
       "      <td>0</td>\n",
       "      <td>0</td>\n",
       "      <td>0</td>\n",
       "    </tr>\n",
       "  </tbody>\n",
       "</table>\n",
       "<p>5 rows × 21 columns</p>\n",
       "</div>"
      ],
      "text/plain": [
       "   Unnamed: 0  Year  hg/ha_yield  Average_Rainfall_mm_per_year  \\\n",
       "0           0  2000        36613                          1485   \n",
       "1           1  2000        66667                          1485   \n",
       "2           2  2000        23333                          1485   \n",
       "3           3  2000        12500                          1485   \n",
       "4           4  2000         7000                          1485   \n",
       "\n",
       "   Pesticides_Tonnes  Avg_Temp  Area_Bindura  Area_Centenary  Area_Chikomba  \\\n",
       "0              121.0     16.37             1               0              0   \n",
       "1              121.0     16.37             1               0              0   \n",
       "2              121.0     16.37             1               0              0   \n",
       "3              121.0     16.37             1               0              0   \n",
       "4              121.0     16.37             1               0              0   \n",
       "\n",
       "   Area_Guruve  ...  Area_Marondera  Area_Mazowe  Area_Mrehwa  Area_Mt Darwin  \\\n",
       "0            0  ...               0            0            0               0   \n",
       "1            0  ...               0            0            0               0   \n",
       "2            0  ...               0            0            0               0   \n",
       "3            0  ...               0            0            0               0   \n",
       "4            0  ...               0            0            0               0   \n",
       "\n",
       "   Area_Mudzi  Area_Mutoko  Area_Rushinga  Area_Seke  Area_Shamva  Area_Uzumba  \n",
       "0           0            0              0          0            0            0  \n",
       "1           0            0              0          0            0            0  \n",
       "2           0            0              0          0            0            0  \n",
       "3           0            0              0          0            0            0  \n",
       "4           0            0              0          0            0            0  \n",
       "\n",
       "[5 rows x 21 columns]"
      ]
     },
     "execution_count": 106,
     "metadata": {},
     "output_type": "execute_result"
    }
   ],
   "source": [
    "data.head()"
   ]
  },
  {
   "cell_type": "code",
   "execution_count": 107,
   "id": "be75f1f9-920d-4807-8ab2-f0437cbd1ee5",
   "metadata": {
    "tags": []
   },
   "outputs": [
    {
     "name": "stdout",
     "output_type": "stream",
     "text": [
      "Unnamed: 0\n",
      "Year\n",
      "hg/ha_yield\n",
      "Average_Rainfall_mm_per_year\n",
      "Pesticides_Tonnes\n",
      "Avg_Temp\n",
      "Area_Bindura\n",
      "Area_Centenary\n",
      "Area_Chikomba\n",
      "Area_Guruve\n",
      "Area_Hwedza\n",
      "Area_Marondera\n",
      "Area_Mazowe\n",
      "Area_Mrehwa\n",
      "Area_Mt Darwin\n",
      "Area_Mudzi\n",
      "Area_Mutoko\n",
      "Area_Rushinga\n",
      "Area_Seke\n",
      "Area_Shamva\n",
      "Area_Uzumba\n"
     ]
    }
   ],
   "source": [
    "var = \"Area\"\n",
    "for i in data.columns:\n",
    "    print(i)"
   ]
  },
  {
   "cell_type": "code",
   "execution_count": null,
   "id": "edc068f7-acef-453b-ae35-ff9616f75d60",
   "metadata": {},
   "outputs": [],
   "source": []
  },
  {
   "cell_type": "code",
   "execution_count": 108,
   "id": "9ad60ab3-4663-45c7-ab4c-0ac4683a4c30",
   "metadata": {
    "tags": []
   },
   "outputs": [],
   "source": [
    "# Scale the data using StandardScaler\n",
    "scaler = MinMaxScaler()\n",
    "\n",
    "# Fit and transform the data\n",
    "\n",
    "\n",
    "\n",
    "scaler = MinMaxScaler()\n",
    "data[['Average_Rainfall_mm_per_year', 'Pesticides_Tonnes', 'Avg_Temp', 'hg/ha_yield']] = scaler.fit_transform(data[['Average_Rainfall_mm_per_year', 'Pesticides_Tonnes', 'Avg_Temp', \"hg/ha_yield\"]])\n"
   ]
  },
  {
   "cell_type": "code",
   "execution_count": 109,
   "id": "814418c1-0666-4ee7-a1cd-f9cddbb1e0f9",
   "metadata": {
    "tags": []
   },
   "outputs": [],
   "source": [
    "X = data.drop(['hg/ha_yield'], axis=1)  # features\n"
   ]
  },
  {
   "cell_type": "code",
   "execution_count": 110,
   "id": "084c01e0-6ba3-45dc-bbfa-d11b6caafda1",
   "metadata": {
    "tags": []
   },
   "outputs": [],
   "source": [
    "y = data['hg/ha_yield']  # target variable\n"
   ]
  },
  {
   "cell_type": "code",
   "execution_count": 111,
   "id": "29617bfe-147b-4272-8d3d-e7690ce12514",
   "metadata": {},
   "outputs": [
    {
     "name": "stdout",
     "output_type": "stream",
     "text": [
      "Cross-validation scores: [-0.02887776 -0.02561756 -0.02712999 -0.02679831 -0.02783153]\n",
      "Average cross-validation score: -0.027251030834762057\n"
     ]
    }
   ],
   "source": [
    "from sklearn.linear_model import LinearRegression\n",
    "from sklearn.model_selection import train_test_split, cross_val_score\n",
    "\n",
    "X_train, X_test, y_train, y_test = train_test_split(X, y, test_size=0.2, random_state=42)\n",
    "\n",
    "# Define the model\n",
    "model = LinearRegression()\n",
    "\n",
    "# Perform cross-validation with 5 folds\n",
    "scores = cross_val_score(model, X_train, y_train, cv=5, scoring='neg_mean_squared_error')\n",
    "\n",
    "# Print the cross-validation scores\n",
    "print(\"Cross-validation scores:\", scores)\n",
    "\n",
    "# Print the average cross-validation score\n",
    "print(\"Average cross-validation score:\", scores.mean())\n"
   ]
  },
  {
   "cell_type": "code",
   "execution_count": 112,
   "id": "76f0c881-a510-4d01-b9df-c3841f4dac35",
   "metadata": {
    "tags": []
   },
   "outputs": [
    {
     "data": {
      "text/html": [
       "<style>#sk-container-id-7 {color: black;background-color: white;}#sk-container-id-7 pre{padding: 0;}#sk-container-id-7 div.sk-toggleable {background-color: white;}#sk-container-id-7 label.sk-toggleable__label {cursor: pointer;display: block;width: 100%;margin-bottom: 0;padding: 0.3em;box-sizing: border-box;text-align: center;}#sk-container-id-7 label.sk-toggleable__label-arrow:before {content: \"▸\";float: left;margin-right: 0.25em;color: #696969;}#sk-container-id-7 label.sk-toggleable__label-arrow:hover:before {color: black;}#sk-container-id-7 div.sk-estimator:hover label.sk-toggleable__label-arrow:before {color: black;}#sk-container-id-7 div.sk-toggleable__content {max-height: 0;max-width: 0;overflow: hidden;text-align: left;background-color: #f0f8ff;}#sk-container-id-7 div.sk-toggleable__content pre {margin: 0.2em;color: black;border-radius: 0.25em;background-color: #f0f8ff;}#sk-container-id-7 input.sk-toggleable__control:checked~div.sk-toggleable__content {max-height: 200px;max-width: 100%;overflow: auto;}#sk-container-id-7 input.sk-toggleable__control:checked~label.sk-toggleable__label-arrow:before {content: \"▾\";}#sk-container-id-7 div.sk-estimator input.sk-toggleable__control:checked~label.sk-toggleable__label {background-color: #d4ebff;}#sk-container-id-7 div.sk-label input.sk-toggleable__control:checked~label.sk-toggleable__label {background-color: #d4ebff;}#sk-container-id-7 input.sk-hidden--visually {border: 0;clip: rect(1px 1px 1px 1px);clip: rect(1px, 1px, 1px, 1px);height: 1px;margin: -1px;overflow: hidden;padding: 0;position: absolute;width: 1px;}#sk-container-id-7 div.sk-estimator {font-family: monospace;background-color: #f0f8ff;border: 1px dotted black;border-radius: 0.25em;box-sizing: border-box;margin-bottom: 0.5em;}#sk-container-id-7 div.sk-estimator:hover {background-color: #d4ebff;}#sk-container-id-7 div.sk-parallel-item::after {content: \"\";width: 100%;border-bottom: 1px solid gray;flex-grow: 1;}#sk-container-id-7 div.sk-label:hover label.sk-toggleable__label {background-color: #d4ebff;}#sk-container-id-7 div.sk-serial::before {content: \"\";position: absolute;border-left: 1px solid gray;box-sizing: border-box;top: 0;bottom: 0;left: 50%;z-index: 0;}#sk-container-id-7 div.sk-serial {display: flex;flex-direction: column;align-items: center;background-color: white;padding-right: 0.2em;padding-left: 0.2em;position: relative;}#sk-container-id-7 div.sk-item {position: relative;z-index: 1;}#sk-container-id-7 div.sk-parallel {display: flex;align-items: stretch;justify-content: center;background-color: white;position: relative;}#sk-container-id-7 div.sk-item::before, #sk-container-id-7 div.sk-parallel-item::before {content: \"\";position: absolute;border-left: 1px solid gray;box-sizing: border-box;top: 0;bottom: 0;left: 50%;z-index: -1;}#sk-container-id-7 div.sk-parallel-item {display: flex;flex-direction: column;z-index: 1;position: relative;background-color: white;}#sk-container-id-7 div.sk-parallel-item:first-child::after {align-self: flex-end;width: 50%;}#sk-container-id-7 div.sk-parallel-item:last-child::after {align-self: flex-start;width: 50%;}#sk-container-id-7 div.sk-parallel-item:only-child::after {width: 0;}#sk-container-id-7 div.sk-dashed-wrapped {border: 1px dashed gray;margin: 0 0.4em 0.5em 0.4em;box-sizing: border-box;padding-bottom: 0.4em;background-color: white;}#sk-container-id-7 div.sk-label label {font-family: monospace;font-weight: bold;display: inline-block;line-height: 1.2em;}#sk-container-id-7 div.sk-label-container {text-align: center;}#sk-container-id-7 div.sk-container {/* jupyter's `normalize.less` sets `[hidden] { display: none; }` but bootstrap.min.css set `[hidden] { display: none !important; }` so we also need the `!important` here to be able to override the default hidden behavior on the sphinx rendered scikit-learn.org. See: https://github.com/scikit-learn/scikit-learn/issues/21755 */display: inline-block !important;position: relative;}#sk-container-id-7 div.sk-text-repr-fallback {display: none;}</style><div id=\"sk-container-id-7\" class=\"sk-top-container\"><div class=\"sk-text-repr-fallback\"><pre>LinearRegression()</pre><b>In a Jupyter environment, please rerun this cell to show the HTML representation or trust the notebook. <br />On GitHub, the HTML representation is unable to render, please try loading this page with nbviewer.org.</b></div><div class=\"sk-container\" hidden><div class=\"sk-item\"><div class=\"sk-estimator sk-toggleable\"><input class=\"sk-toggleable__control sk-hidden--visually\" id=\"sk-estimator-id-7\" type=\"checkbox\" checked><label for=\"sk-estimator-id-7\" class=\"sk-toggleable__label sk-toggleable__label-arrow\">LinearRegression</label><div class=\"sk-toggleable__content\"><pre>LinearRegression()</pre></div></div></div></div></div>"
      ],
      "text/plain": [
       "LinearRegression()"
      ]
     },
     "execution_count": 112,
     "metadata": {},
     "output_type": "execute_result"
    }
   ],
   "source": [
    "model.fit(X_train, y_train)\n"
   ]
  },
  {
   "cell_type": "code",
   "execution_count": 114,
   "id": "55e6c3a1-550f-463d-801d-accaf5c3b0af",
   "metadata": {
    "tags": []
   },
   "outputs": [],
   "source": [
    "columns = X.columns"
   ]
  },
  {
   "cell_type": "code",
   "execution_count": 115,
   "id": "f43eea82-3848-4dc6-9c89-608e4b8552c2",
   "metadata": {},
   "outputs": [
    {
     "name": "stdout",
     "output_type": "stream",
     "text": [
      "Predictions: [0.17481235 0.11575773 0.18100155 0.14451016 0.13882816]\n",
      "True values: 25564    0.137964\n",
      "18113    0.040191\n",
      "25607    0.102034\n",
      "6815     0.332965\n",
      "18144    0.112232\n",
      "Name: hg/ha_yield, dtype: float64\n"
     ]
    }
   ],
   "source": [
    "y_pred = model.predict(X_test)\n",
    "\n",
    "\n",
    "# Print the first 5 predictions\n",
    "print(\"Predictions:\", y_pred[:5])\n",
    "\n",
    "# Print the first 5 true values\n",
    "print(\"True values:\", y_test[:5])\n"
   ]
  },
  {
   "cell_type": "code",
   "execution_count": 103,
   "id": "df983507-f080-45ea-8c0b-f1447c483b67",
   "metadata": {
    "tags": []
   },
   "outputs": [],
   "source": [
    "import pickle\n",
    "with open('model.pkl', 'wb') as f:\n",
    "    pickle.dump({'model': model, 'scaler': scaler, 'columns':columns }, f)\n"
   ]
  },
  {
   "cell_type": "code",
   "execution_count": null,
   "id": "9616540c-7ce2-48e9-8fce-a7005dfd8f02",
   "metadata": {
    "tags": []
   },
   "outputs": [],
   "source": [
    "\n"
   ]
  },
  {
   "cell_type": "code",
   "execution_count": null,
   "id": "333fb283-77e8-4f80-9e51-320f31171d0c",
   "metadata": {},
   "outputs": [],
   "source": [
    "# Save the model\n",
    "dump(model, 'maize_yield_model.joblib')"
   ]
  }
 ],
 "metadata": {
  "kernelspec": {
   "display_name": "Python 3 (ipykernel)",
   "language": "python",
   "name": "python3"
  },
  "language_info": {
   "codemirror_mode": {
    "name": "ipython",
    "version": 3
   },
   "file_extension": ".py",
   "mimetype": "text/x-python",
   "name": "python",
   "nbconvert_exporter": "python",
   "pygments_lexer": "ipython3",
   "version": "3.11.5"
  }
 },
 "nbformat": 4,
 "nbformat_minor": 5
}
