{
 "cells": [
  {
   "cell_type": "code",
   "execution_count": 1,
   "id": "8d6e98f5-cf55-403b-9e5e-fec4d728777c",
   "metadata": {},
   "outputs": [
    {
     "name": "stdout",
     "output_type": "stream",
     "text": [
      "Cross-validation scores: [-7.25882602e+09 -6.43932834e+09 -6.81949854e+09 -6.73612751e+09\n",
      " -6.99584042e+09]\n",
      "Average cross-validation score: -6849924164.548704\n",
      "Predictions: [87694.26994131 58086.52911223 90797.30131953 72501.90230607\n",
      " 69653.1661963 ]\n",
      "True values: 25564     69220\n",
      "18113     20200\n",
      "25607     51206\n",
      "6815     166986\n",
      "18144     56319\n",
      "Name: hg/ha_yield, dtype: int64\n"
     ]
    }
   ],
   "source": [
    "import pandas as pd\n",
    "from sklearn.preprocessing import StandardScaler, OrdinalEncoder, MinMaxScaler\n",
    "from sklearn.linear_model import LinearRegression\n",
    "from sklearn.model_selection import train_test_split, cross_val_score\n",
    "import pickle\n",
    "\n",
    "# Load the data\n",
    "data = pd.read_csv('yield_maize_df.csv')\n",
    "\n",
    "# Drop the 'Item' column\n",
    "data.drop('Item', axis=1, inplace=True)\n",
    "\n",
    "# Define the categories for the 'Year' column\n",
    "years = list(range(2000, 2025))  # adjust this to include all possible years in your data\n",
    "year_encoder = OrdinalEncoder(categories=[years])\n",
    "data['Year'] = year_encoder.fit_transform(data[['Year']])\n",
    "\n",
    "# One-hot encode the 'Area' column\n",
    "data = pd.get_dummies(data, columns=['Area'])\n",
    "\n",
    "# Scale the data using MinMaxScaler\n",
    "scaler = MinMaxScaler()\n",
    "data[['Average_Rainfall_mm_per_year', 'Pesticides_Tonnes', 'Avg_Temp']] = scaler.fit_transform(data[['Average_Rainfall_mm_per_year', 'Pesticides_Tonnes', 'Avg_Temp']])\n",
    "\n",
    "# Split the data into features and target variable\n",
    "X = data.drop(['hg/ha_yield'], axis=1)\n",
    "y = data['hg/ha_yield']\n",
    "\n",
    "# Store the columns for later use\n",
    "columns = X.columns\n",
    "\n",
    "# Split the data into training and testing sets\n",
    "X_train, X_test, y_train, y_test = train_test_split(X, y, test_size=0.2, random_state=42)\n",
    "\n",
    "# Define the model\n",
    "model = LinearRegression()\n",
    "\n",
    "# Perform cross-validation with 5 folds\n",
    "scores = cross_val_score(model, X_train, y_train, cv=5, scoring='neg_mean_squared_error')\n",
    "\n",
    "# Print the cross-validation scores\n",
    "print(\"Cross-validation scores:\", scores)\n",
    "\n",
    "# Print the average cross-validation score\n",
    "print(\"Average cross-validation score:\", scores.mean())\n",
    "\n",
    "# Fit the model\n",
    "model.fit(X_train, y_train)\n",
    "\n",
    "# Make predictions\n",
    "y_pred = model.predict(X_test)\n",
    "\n",
    "# Print the first 5 predictions\n",
    "print(\"Predictions:\", y_pred[:5])\n",
    "\n",
    "# Print the first 5 true values\n",
    "print(\"True values:\", y_test[:5])\n",
    "\n",
    "# Save the model, scaler, year encoder, and columns\n",
    "with open('model.pkl', 'wb') as f:\n",
    "    pickle.dump({'model': model, 'scaler': scaler, 'year_encoder': year_encoder, 'columns': columns}, f)\n"
   ]
  },
  {
   "cell_type": "code",
   "execution_count": 2,
   "id": "29617bfe-147b-4272-8d3d-e7690ce12514",
   "metadata": {},
   "outputs": [
    {
     "ename": "NameError",
     "evalue": "name 'X_scaled' is not defined",
     "output_type": "error",
     "traceback": [
      "\u001b[1;31m---------------------------------------------------------------------------\u001b[0m",
      "\u001b[1;31mNameError\u001b[0m                                 Traceback (most recent call last)",
      "Cell \u001b[1;32mIn[2], line 2\u001b[0m\n\u001b[0;32m      1\u001b[0m \u001b[38;5;66;03m# Split data into training and testing sets\u001b[39;00m\n\u001b[1;32m----> 2\u001b[0m X_train, X_test, y_train, y_test \u001b[38;5;241m=\u001b[39m train_test_split(\u001b[43mX_scaled\u001b[49m, y, test_size\u001b[38;5;241m=\u001b[39m\u001b[38;5;241m0.2\u001b[39m, random_state\u001b[38;5;241m=\u001b[39m\u001b[38;5;241m42\u001b[39m)\n",
      "\u001b[1;31mNameError\u001b[0m: name 'X_scaled' is not defined"
     ]
    }
   ],
   "source": [
    "# Split data into training and testing sets\n",
    "X_train, X_test, y_train, y_test = train_test_split(X_scaled, y, test_size=0.2, random_state=42)\n"
   ]
  },
  {
   "cell_type": "code",
   "execution_count": null,
   "id": "f43eea82-3848-4dc6-9c89-608e4b8552c2",
   "metadata": {},
   "outputs": [],
   "source": [
    "# Train the model\n",
    "model = LinearRegression()\n",
    "model.fit(X_train, y_train)\n",
    "\n",
    "\n"
   ]
  },
  {
   "cell_type": "code",
   "execution_count": null,
   "id": "333fb283-77e8-4f80-9e51-320f31171d0c",
   "metadata": {},
   "outputs": [],
   "source": [
    "# Save the model\n",
    "dump(model, 'maize_yield_model.joblib')"
   ]
  }
 ],
 "metadata": {
  "kernelspec": {
   "display_name": "Python 3 (ipykernel)",
   "language": "python",
   "name": "python3"
  },
  "language_info": {
   "codemirror_mode": {
    "name": "ipython",
    "version": 3
   },
   "file_extension": ".py",
   "mimetype": "text/x-python",
   "name": "python",
   "nbconvert_exporter": "python",
   "pygments_lexer": "ipython3",
   "version": "3.11.5"
  }
 },
 "nbformat": 4,
 "nbformat_minor": 5
}
